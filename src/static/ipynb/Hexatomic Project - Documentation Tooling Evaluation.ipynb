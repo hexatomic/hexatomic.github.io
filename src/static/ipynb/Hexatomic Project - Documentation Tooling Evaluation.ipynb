{
 "cells": [
  {
   "cell_type": "markdown",
   "metadata": {},
   "source": [
    "# Documentation Tooling Evaluation\n",
    "\n",
    "In the  [Hexatomic research project](https://hexatomic.github.io), we have evaluated different software documentation tools for suitability of documenting software sustainably (see <https://hexatomic.github.io/documentation/tooling/evaluation.html>).\n",
    "\n",
    "We present the evaluation data here."
   ]
  },
  {
   "cell_type": "code",
   "execution_count": null,
   "metadata": {},
   "outputs": [],
   "source": [
    "# Prepare the raw data\n",
    "import pandas as pd\n",
    "\n",
    "# The evaluation scores on a scale from 1-5\n",
    "data = [\n",
    "    [5, 3, 4, 3, 4, 3, 4, 4], # Scores for Sphinx (rST)\n",
    "    [3, 5, 1, 3, 2, 3, 4, 4], # Scores for Sphinx (CM)\n",
    "    [3, 4, 1, 4, 3, 3, 3, 3], # Scores for Asciidoctor\n",
    "    [3, 5, 1, 3, 4, 3, 2, 1], # Scores for mkDocs\n",
    "    [4, 5, 1, 3, 4, 4, 5, 3], # Scores for mdBook\n",
    "    [4, 5, 1, 3, 4, 2, 2, 2] # Scores for Jekyll\n",
    "]\n",
    "\n",
    "# The indices of the rows = tool name\n",
    "idx = index=['Sphinx (rST)','Sphinx (CM)','Asciidoctor','mkDocs', 'mdBook', 'Jekyll']\n",
    "\n",
    "# The index of the evaluation category\n",
    "cols = columns=['1', '3a', '3b', '3c', '3d', '3e', '3f', '4']\n",
    "\n",
    "# Create a data frame and print it\n",
    "df = pd.DataFrame(data, index=idx, columns=cols)\n",
    "df"
   ]
  },
  {
   "cell_type": "code",
   "execution_count": null,
   "metadata": {},
   "outputs": [],
   "source": [
    "# Calculate the mean of the sub-categories in category 3 (usability)\n",
    "cat_cols = df.loc[:, '3a':'3f']\n",
    "\n",
    "# Add the means to a new column in the data frame\n",
    "df['mean(3)'] = cat_cols.mean(axis=1)\n",
    "\n",
    "# Change the position of the mean column to go before the '4' column\n",
    "new_order = [0, 1, 2, 3, 4, 5, 6, 8, 7]\n",
    "df = df[df.columns[new_order]]\n",
    "\n",
    "# Print the data frame\n",
    "df"
   ]
  },
  {
   "cell_type": "markdown",
   "metadata": {},
   "source": [
    "## Evaluation 1\n",
    "\n",
    "The evaluation categories `1`, `mean(3)` and `4` are weighted equally."
   ]
  },
  {
   "cell_type": "code",
   "execution_count": null,
   "metadata": {},
   "outputs": [],
   "source": [
    "# Create a copy of the original data frame for this evaluation\n",
    "df1 = df.copy()\n",
    "\n",
    "# Create a sub-data frame\n",
    "sum_cols1 = df1[['1', 'mean(3)', '4']]\n",
    "\n",
    "# Print the sub-data frame\n",
    "sum_cols1"
   ]
  },
  {
   "cell_type": "code",
   "execution_count": null,
   "metadata": {},
   "outputs": [],
   "source": [
    "# Calculate the mean for sum_cols\n",
    "simple_avg1 = sum_cols1.mean(axis=1)\n",
    "\n",
    "# Add a 'score' column with the simple averages to the data frame copy\n",
    "df1['score'] = simple_avg1\n",
    "\n",
    "# Order the data frame by score\n",
    "scored1 = df1.sort_values('score', ascending=False)\n",
    "\n",
    "# Print the data frame\n",
    "scored1"
   ]
  },
  {
   "cell_type": "markdown",
   "metadata": {},
   "source": [
    "## Evaluation 2\n",
    "\n",
    "Ignore the JavaDoc integration category (3b)."
   ]
  },
  {
   "cell_type": "code",
   "execution_count": null,
   "metadata": {},
   "outputs": [],
   "source": [
    "# Create a copy of the original data frame for this evaluation\n",
    "df2 = df.copy()\n",
    "\n",
    "# Remove the '3b' column\n",
    "df2.drop('3b', axis=1, inplace=True)\n",
    "\n",
    "# Re-calculate mean(3)\n",
    "cat_cols2 = df2.loc[:, '3a':'3f']\n",
    "df2['mean(3)'] = cat_cols2.mean(axis=1)\n",
    "\n",
    "# Print df2\n",
    "df2"
   ]
  },
  {
   "cell_type": "code",
   "execution_count": null,
   "metadata": {},
   "outputs": [],
   "source": [
    "# Create a sub-data frame\n",
    "sum_cols2 = df2[['1', 'mean(3)', '4']]\n",
    "\n",
    "# Print the sub-data frame\n",
    "sum_cols2"
   ]
  },
  {
   "cell_type": "code",
   "execution_count": null,
   "metadata": {},
   "outputs": [],
   "source": [
    "# Calculate the mean for sum_cols\n",
    "simple_avg2 = sum_cols2.mean(axis=1)\n",
    "\n",
    "# Add a 'score' column with the simple averages to the data frame copy\n",
    "df2['score'] = simple_avg2\n",
    "\n",
    "# Order the data frame by score\n",
    "scored2 = df2.sort_values('score', ascending=False)\n",
    "\n",
    "# Print the data frame\n",
    "scored2"
   ]
  },
  {
   "cell_type": "markdown",
   "metadata": {},
   "source": [
    "## Evaluation 3\n",
    "\n",
    "Ignore the exportability category (4)."
   ]
  },
  {
   "cell_type": "code",
   "execution_count": null,
   "metadata": {},
   "outputs": [],
   "source": [
    "# Create a copy of the original data frame for this evaluation\n",
    "df3 = df.copy()\n",
    "\n",
    "# Remove the '3b' column\n",
    "df3.drop(columns=['3b', '4'], axis=1, inplace=True)\n",
    "\n",
    "# Re-calculate mean(3)\n",
    "cat_cols3 = df3.loc[:, '3a':'3f']\n",
    "df3['mean(3)'] = cat_cols3.mean(axis=1)\n",
    "\n",
    "# Print df3\n",
    "df3"
   ]
  },
  {
   "cell_type": "code",
   "execution_count": null,
   "metadata": {},
   "outputs": [],
   "source": [
    "# Create a sub-data frame\n",
    "sum_cols3 = df3[['1', 'mean(3)']]\n",
    "\n",
    "# Print the sub-data frame\n",
    "sum_cols3"
   ]
  },
  {
   "cell_type": "code",
   "execution_count": null,
   "metadata": {},
   "outputs": [],
   "source": [
    "# Calculate the mean for sum_cols\n",
    "simple_avg3 = sum_cols3.mean(axis=1)\n",
    "\n",
    "# Add a 'score' column with the simple averages to the data frame copy\n",
    "df3['score'] = simple_avg3\n",
    "\n",
    "# Order the data frame by score\n",
    "scored3 = df3.sort_values('score', ascending=False)\n",
    "\n",
    "# Print the data frame\n",
    "scored3"
   ]
  },
  {
   "cell_type": "markdown",
   "metadata": {},
   "source": [
    "## Averaging evaluation scores\n",
    "\n",
    "Finally, the scores from all evaluations are averaged to produce a final score."
   ]
  },
  {
   "cell_type": "code",
   "execution_count": null,
   "metadata": {},
   "outputs": [],
   "source": [
    "# Concatenate the score columns from all 3 evaluation data frames in a new data frame\n",
    "df_avg = pd.concat([df1['score'], df2['score'], df3['score']], axis=1, keys=['score 1', 'score 2', 'score 3'])\n",
    "\n",
    "# Print the new data frame\n",
    "df_avg"
   ]
  },
  {
   "cell_type": "code",
   "execution_count": null,
   "metadata": {},
   "outputs": [],
   "source": [
    "# Calculate the mean for sum_cols\n",
    "final_avg = df_avg.mean(axis=1)\n",
    "\n",
    "# Add a 'avg score' column with the simple averages to the data frame\n",
    "df_avg['avg score'] = final_avg\n",
    "\n",
    "# Order the data frame by score\n",
    "scored_avg = df_avg.sort_values('avg score', ascending=False)\n",
    "\n",
    "# Print the data frame\n",
    "scored_avg"
   ]
  }
 ],
 "metadata": {
  "kernelspec": {
   "display_name": "Python 3",
   "language": "python",
   "name": "python3"
  },
  "language_info": {
   "codemirror_mode": {
    "name": "ipython",
    "version": 3
   },
   "file_extension": ".py",
   "mimetype": "text/x-python",
   "name": "python",
   "nbconvert_exporter": "python",
   "pygments_lexer": "ipython3",
   "version": "3.5.2"
  }
 },
 "nbformat": 4,
 "nbformat_minor": 2
}
